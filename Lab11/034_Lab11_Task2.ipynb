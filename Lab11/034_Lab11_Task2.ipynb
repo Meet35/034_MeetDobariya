{
  "nbformat": 4,
  "nbformat_minor": 0,
  "metadata": {
    "colab": {
      "name": "034_Lab11_Task2",
      "provenance": []
    },
    "kernelspec": {
      "name": "python3",
      "display_name": "Python 3"
    },
    "language_info": {
      "name": "python"
    }
  },
  "cells": [
    {
      "cell_type": "code",
      "metadata": {
        "id": "ja-kBb8Tp4uv"
      },
      "source": [
        "import numpy as np \n",
        "import matplotlib.pyplot as plt \n",
        "from sklearn.decomposition import PCA \n",
        "import pandas as pd \n",
        "import math \n",
        "import random \n",
        "from sklearn import datasets"
      ],
      "execution_count": 1,
      "outputs": []
    },
    {
      "cell_type": "code",
      "metadata": {
        "id": "wvnLQJRPqovn"
      },
      "source": [
        "dataset = datasets.load_breast_cancer()"
      ],
      "execution_count": 2,
      "outputs": []
    },
    {
      "cell_type": "code",
      "metadata": {
        "colab": {
          "base_uri": "https://localhost:8080/"
        },
        "id": "r-0rW3niqpq6",
        "outputId": "a0fed2b6-08bf-4e5d-8706-13e25cc6416f"
      },
      "source": [
        "dataset.data.shape"
      ],
      "execution_count": 3,
      "outputs": [
        {
          "output_type": "execute_result",
          "data": {
            "text/plain": [
              "(569, 30)"
            ]
          },
          "metadata": {},
          "execution_count": 3
        }
      ]
    },
    {
      "cell_type": "code",
      "metadata": {
        "colab": {
          "base_uri": "https://localhost:8080/"
        },
        "id": "2kcsDLGCqqvN",
        "outputId": "9adefe7b-8f7b-42d1-e917-971bad88d22c"
      },
      "source": [
        "dataset.target.shape"
      ],
      "execution_count": 4,
      "outputs": [
        {
          "output_type": "execute_result",
          "data": {
            "text/plain": [
              "(569,)"
            ]
          },
          "metadata": {},
          "execution_count": 4
        }
      ]
    },
    {
      "cell_type": "code",
      "metadata": {
        "colab": {
          "base_uri": "https://localhost:8080/"
        },
        "id": "dV8xGo1vqrfK",
        "outputId": "d2a19eaf-50b9-4acc-839c-fb719978a2fa"
      },
      "source": [
        "dataset.feature_names"
      ],
      "execution_count": 5,
      "outputs": [
        {
          "output_type": "execute_result",
          "data": {
            "text/plain": [
              "array(['mean radius', 'mean texture', 'mean perimeter', 'mean area',\n",
              "       'mean smoothness', 'mean compactness', 'mean concavity',\n",
              "       'mean concave points', 'mean symmetry', 'mean fractal dimension',\n",
              "       'radius error', 'texture error', 'perimeter error', 'area error',\n",
              "       'smoothness error', 'compactness error', 'concavity error',\n",
              "       'concave points error', 'symmetry error',\n",
              "       'fractal dimension error', 'worst radius', 'worst texture',\n",
              "       'worst perimeter', 'worst area', 'worst smoothness',\n",
              "       'worst compactness', 'worst concavity', 'worst concave points',\n",
              "       'worst symmetry', 'worst fractal dimension'], dtype='<U23')"
            ]
          },
          "metadata": {},
          "execution_count": 5
        }
      ]
    },
    {
      "cell_type": "code",
      "metadata": {
        "colab": {
          "base_uri": "https://localhost:8080/"
        },
        "id": "wjm3AvC7qsSu",
        "outputId": "05e511e9-0e07-4fb4-87c2-29d6a17beafb"
      },
      "source": [
        "dataset.target_names"
      ],
      "execution_count": 6,
      "outputs": [
        {
          "output_type": "execute_result",
          "data": {
            "text/plain": [
              "array(['malignant', 'benign'], dtype='<U9')"
            ]
          },
          "metadata": {},
          "execution_count": 6
        }
      ]
    },
    {
      "cell_type": "code",
      "metadata": {
        "id": "tPE13n9bqtn2"
      },
      "source": [
        "from sklearn.model_selection import train_test_split\n",
        "x_train, x_test, y_train, y_test = train_test_split(dataset.data, dataset.target, test_size = 0.2,random_state=34) #roll no 34"
      ],
      "execution_count": 13,
      "outputs": []
    },
    {
      "cell_type": "markdown",
      "metadata": {
        "id": "tmEIrTaWqz2R"
      },
      "source": [
        "SVM Without applying Dimensinality Reduction"
      ]
    },
    {
      "cell_type": "code",
      "metadata": {
        "id": "3MPjOfqlqu02"
      },
      "source": [
        "from sklearn import svm,metrics\n",
        "model = svm.SVC(kernel='linear')\n",
        "model.fit(x_train,y_train)\n",
        "pred = model.predict(x_test)"
      ],
      "execution_count": 14,
      "outputs": []
    },
    {
      "cell_type": "code",
      "metadata": {
        "colab": {
          "base_uri": "https://localhost:8080/"
        },
        "id": "ru-AjP4kqv_O",
        "outputId": "486ac636-5b5a-475b-c26d-337a58064f3a"
      },
      "source": [
        "print(\"Accuracy:\",metrics.accuracy_score(y_test, pred))\n",
        "print(\"Precision:\",metrics.precision_score(y_test, pred))\n",
        "print(\"Recall:\",metrics.recall_score(y_test,pred))"
      ],
      "execution_count": 15,
      "outputs": [
        {
          "output_type": "stream",
          "name": "stdout",
          "text": [
            "Accuracy: 0.9736842105263158\n",
            "Precision: 0.974025974025974\n",
            "Recall: 0.9868421052631579\n"
          ]
        }
      ]
    },
    {
      "cell_type": "markdown",
      "metadata": {
        "id": "YWpqIXk9q8lG"
      },
      "source": [
        "SVM With Dimentinality Reduction"
      ]
    },
    {
      "cell_type": "code",
      "metadata": {
        "id": "ccckNOBcqxiJ"
      },
      "source": [
        "pca = PCA(n_components=25) \n",
        "pca_fit = pca.fit(dataset.data)"
      ],
      "execution_count": 16,
      "outputs": []
    },
    {
      "cell_type": "code",
      "metadata": {
        "id": "qCP_rROzrCUG"
      },
      "source": [
        "pca_tran = pca_fit.transform(dataset.data)"
      ],
      "execution_count": 17,
      "outputs": []
    },
    {
      "cell_type": "code",
      "metadata": {
        "colab": {
          "base_uri": "https://localhost:8080/"
        },
        "id": "Qnk62IF3rDH5",
        "outputId": "e362afb0-8249-4ccc-be7c-07fc85c5eaf8"
      },
      "source": [
        "column_list=dataset.feature_names\n",
        "print(type(column_list))\n",
        "\n",
        "column_list=list(column_list)\n",
        "print(type(column_list))\n",
        "\n",
        "dataPCA = pd.DataFrame(data = pca_tran, columns = column_list[:25])"
      ],
      "execution_count": 18,
      "outputs": [
        {
          "output_type": "stream",
          "name": "stdout",
          "text": [
            "<class 'numpy.ndarray'>\n",
            "<class 'list'>\n"
          ]
        }
      ]
    },
    {
      "cell_type": "code",
      "metadata": {
        "id": "pDx8SZIZrD7A"
      },
      "source": [
        "x_tr, x_ts, y_tr, y_ts = train_test_split(dataPCA, dataset.target, test_size = 0.2,random_state=34) #roll no 34"
      ],
      "execution_count": 19,
      "outputs": []
    },
    {
      "cell_type": "code",
      "metadata": {
        "colab": {
          "base_uri": "https://localhost:8080/"
        },
        "id": "g-N4iBn4rOcp",
        "outputId": "b4ab2a4c-ea84-4fb9-8e8d-8b313e973a8c"
      },
      "source": [
        "x_tr.shape"
      ],
      "execution_count": 20,
      "outputs": [
        {
          "output_type": "execute_result",
          "data": {
            "text/plain": [
              "(455, 25)"
            ]
          },
          "metadata": {},
          "execution_count": 20
        }
      ]
    },
    {
      "cell_type": "code",
      "metadata": {
        "colab": {
          "base_uri": "https://localhost:8080/"
        },
        "id": "I7GZ9jMrrPcI",
        "outputId": "cd938c3e-ccef-4f8f-9ee3-9f07c2333b88"
      },
      "source": [
        "y_tr.shape"
      ],
      "execution_count": 21,
      "outputs": [
        {
          "output_type": "execute_result",
          "data": {
            "text/plain": [
              "(455,)"
            ]
          },
          "metadata": {},
          "execution_count": 21
        }
      ]
    },
    {
      "cell_type": "code",
      "metadata": {
        "id": "PTWPQZgErQOB"
      },
      "source": [
        "model1 = svm.SVC(kernel='linear')\n",
        "model1.fit(x_tr,y_tr)\n",
        "pred1 = model1.predict(x_ts)"
      ],
      "execution_count": 22,
      "outputs": []
    },
    {
      "cell_type": "code",
      "metadata": {
        "colab": {
          "base_uri": "https://localhost:8080/"
        },
        "id": "yqNv_VqTrRDW",
        "outputId": "f0c4eeaa-6bbe-4d9f-c88c-879906b52d5b"
      },
      "source": [
        "from sklearn import metrics\n",
        "print(\"Accuracy:\",metrics.accuracy_score(y_ts, pred1))\n",
        "print(\"Precision:\",metrics.precision_score(y_ts, pred1))\n",
        "print(\"Recall:\",metrics.recall_score(y_ts, pred1))"
      ],
      "execution_count": 23,
      "outputs": [
        {
          "output_type": "stream",
          "name": "stdout",
          "text": [
            "Accuracy: 0.9736842105263158\n",
            "Precision: 0.974025974025974\n",
            "Recall: 0.9868421052631579\n"
          ]
        }
      ]
    },
    {
      "cell_type": "code",
      "metadata": {
        "id": "0l-qR_hArSDU"
      },
      "source": [
        ""
      ],
      "execution_count": null,
      "outputs": []
    }
  ]
}