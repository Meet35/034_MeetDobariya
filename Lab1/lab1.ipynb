{
 "cells": [
  {
   "cell_type": "code",
   "execution_count": null,
   "id": "necessary-apollo",
   "metadata": {},
   "outputs": [],
   "source": []
  },
  {
   "cell_type": "code",
   "execution_count": null,
   "id": "armed-module",
   "metadata": {},
   "outputs": [],
   "source": []
  },
  {
   "cell_type": "code",
   "execution_count": 2,
   "id": "affected-dutch",
   "metadata": {},
   "outputs": [],
   "source": [
    "import numpy as np\n",
    "import pandas as pd\n"
   ]
  },
  {
   "cell_type": "code",
   "execution_count": 3,
   "id": "soviet-infrared",
   "metadata": {},
   "outputs": [
    {
     "name": "stdout",
     "output_type": "stream",
     "text": [
      "[[5 9 3]\n",
      " [3 7 5]]\n",
      "[[ 3 -9]\n",
      " [ 5  4]\n",
      " [ 7 -8]]\n"
     ]
    }
   ],
   "source": [
    "# two matrics\n",
    "array1 = np.array([[5, 9, 3],[3, 7, 5]])\n",
    "array2 = np.array([[3,-9],[5, 4],[7, -8]])\n",
    "print(array1)\n",
    "print(array2)"
   ]
  },
  {
   "cell_type": "code",
   "execution_count": 4,
   "id": "further-trunk",
   "metadata": {},
   "outputs": [
    {
     "name": "stdout",
     "output_type": "stream",
     "text": [
      "[[0.58326637 0.69656726 0.71845812 0.98152401]\n",
      " [0.39614391 0.71845739 0.07414525 0.2880736 ]\n",
      " [0.45822842 0.78060501 0.28720041 0.79419702]]\n"
     ]
    }
   ],
   "source": [
    "array = np.random.rand(3, 4)\n",
    "print(array)\n"
   ]
  },
  {
   "cell_type": "code",
   "execution_count": 5,
   "id": "functional-residence",
   "metadata": {},
   "outputs": [
    {
     "name": "stdout",
     "output_type": "stream",
     "text": [
      "[[ 81 -33]\n",
      " [ 79 -39]]\n"
     ]
    }
   ],
   "source": [
    "mul = np.dot(array1, array2)\n",
    "print(mul)"
   ]
  },
  {
   "cell_type": "code",
   "execution_count": 6,
   "id": "surface-donor",
   "metadata": {},
   "outputs": [
    {
     "name": "stdout",
     "output_type": "stream",
     "text": [
      "[[81, -33], [79, -39]]\n"
     ]
    }
   ],
   "source": [
    "res = [[0 for x in range(len(array1))] for y in range(len(array2[0]))]\n",
    "\n",
    "for i in range(len(array1)): \n",
    "  for j in range(len(array2[0])): \n",
    "    for k in range(len(array2)): \n",
    "      res[i][j] += array1[i][k] * array2[k][j]\n",
    " \n",
    "print (res) "
   ]
  },
  {
   "cell_type": "code",
   "execution_count": 7,
   "id": "acceptable-custom",
   "metadata": {},
   "outputs": [
    {
     "name": "stdout",
     "output_type": "stream",
     "text": [
      "5.333333333333333\n"
     ]
    }
   ],
   "source": [
    "mean = np.mean(array1)\n",
    "print(mean)"
   ]
  },
  {
   "cell_type": "code",
   "execution_count": null,
   "id": "descending-virus",
   "metadata": {},
   "outputs": [],
   "source": []
  }
 ],
 "metadata": {
  "kernelspec": {
   "display_name": "Python 3",
   "language": "python",
   "name": "python3"
  },
  "language_info": {
   "codemirror_mode": {
    "name": "ipython",
    "version": 3
   },
   "file_extension": ".py",
   "mimetype": "text/x-python",
   "name": "python",
   "nbconvert_exporter": "python",
   "pygments_lexer": "ipython3",
   "version": "3.6.13"
  }
 },
 "nbformat": 4,
 "nbformat_minor": 5
}
