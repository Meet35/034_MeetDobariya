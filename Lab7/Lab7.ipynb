{
  "nbformat": 4,
  "nbformat_minor": 0,
  "metadata": {
    "colab": {
      "name": "Lab7.ipynb",
      "provenance": []
    },
    "kernelspec": {
      "name": "python3",
      "display_name": "Python 3"
    },
    "language_info": {
      "name": "python"
    }
  },
  "cells": [
    {
      "cell_type": "code",
      "metadata": {
        "colab": {
          "base_uri": "https://localhost:8080/"
        },
        "id": "AfGqBwTbyRSi",
        "outputId": "cb5a4e43-d99b-403e-fe2c-b81926054590"
      },
      "source": [
        "import nltk\n",
        "from nltk.corpus import twitter_samples \n",
        "import pandas as pd\n",
        "import tensorflow.compat.v1 as tf\n",
        "tf.disable_v2_behavior()"
      ],
      "execution_count": 1,
      "outputs": [
        {
          "output_type": "stream",
          "name": "stdout",
          "text": [
            "WARNING:tensorflow:From /usr/local/lib/python3.7/dist-packages/tensorflow/python/compat/v2_compat.py:101: disable_resource_variables (from tensorflow.python.ops.variable_scope) is deprecated and will be removed in a future version.\n",
            "Instructions for updating:\n",
            "non-resource variables are not supported in the long term\n"
          ]
        }
      ]
    },
    {
      "cell_type": "code",
      "metadata": {
        "colab": {
          "base_uri": "https://localhost:8080/"
        },
        "id": "sbcJDZbJyejd",
        "outputId": "409aa67f-5b63-4cad-c366-c6b0d4962372"
      },
      "source": [
        "nltk.download('twitter_samples')\n",
        "nltk.download('stopwords')"
      ],
      "execution_count": 2,
      "outputs": [
        {
          "output_type": "stream",
          "name": "stdout",
          "text": [
            "[nltk_data] Downloading package twitter_samples to /root/nltk_data...\n",
            "[nltk_data]   Unzipping corpora/twitter_samples.zip.\n",
            "[nltk_data] Downloading package stopwords to /root/nltk_data...\n",
            "[nltk_data]   Unzipping corpora/stopwords.zip.\n"
          ]
        },
        {
          "output_type": "execute_result",
          "data": {
            "text/plain": [
              "True"
            ]
          },
          "metadata": {},
          "execution_count": 2
        }
      ]
    },
    {
      "cell_type": "code",
      "metadata": {
        "id": "9lczSIU8yvV0"
      },
      "source": [
        "import re\n",
        "import string\n",
        "import numpy as np\n",
        "from nltk.corpus import stopwords\n",
        "from nltk.stem import PorterStemmer\n",
        "from nltk.tokenize import TweetTokenizer"
      ],
      "execution_count": 3,
      "outputs": []
    },
    {
      "cell_type": "code",
      "metadata": {
        "id": "_Du2Ktlwyxcp"
      },
      "source": [
        "all_positive_tweets = twitter_samples.strings('positive_tweets.json')\n",
        "all_negative_tweets = twitter_samples.strings('negative_tweets.json')"
      ],
      "execution_count": 4,
      "outputs": []
    },
    {
      "cell_type": "code",
      "metadata": {
        "id": "ffcYBoabyy35"
      },
      "source": [
        "test_pos = all_positive_tweets[4000:]\n",
        "train_pos = all_positive_tweets[:4000]\n",
        "test_neg = all_negative_tweets[4000:]\n",
        "train_neg = all_negative_tweets[:4000]\n",
        "train_x = train_pos+train_neg\n",
        "test_x = test_pos+test_neg"
      ],
      "execution_count": 5,
      "outputs": []
    },
    {
      "cell_type": "code",
      "metadata": {
        "id": "TXkWvYfvy0gP"
      },
      "source": [
        "def process_tweet(tweet):\n",
        "    stemmer = PorterStemmer()\n",
        "    stopwords_english = stopwords.words('english')\n",
        "\n",
        "    tweet = re.sub(r'\\$\\w*', '', tweet)\n",
        "    tweet = re.sub(r'^RT[\\s]+', '', tweet)\n",
        "    tweet = re.sub(r'https?:\\/\\/.*[\\r\\n]*', '', tweet)\n",
        "    tweet = re.sub(r'#', '', tweet)\n",
        "   \n",
        "    tokenizer = TweetTokenizer(preserve_case=False, strip_handles=True,\n",
        "                               reduce_len=True)\n",
        "    tweet_tokens = tokenizer.tokenize(tweet)\n",
        "\n",
        "    tweets_clean = []\n",
        "    for word in tweet_tokens:\n",
        "            if(word not in stopwords_english and word not in string.punctuation):\n",
        "              steam_word=stemmer.stem(word)\n",
        "              tweets_clean.append(steam_word)\n",
        "    return tweets_clean"
      ],
      "execution_count": 6,
      "outputs": []
    },
    {
      "cell_type": "code",
      "metadata": {
        "id": "qz2oPqkIy2j_"
      },
      "source": [
        "def build_freqs(tweets, ys):\n",
        "  yslist = np.squeeze(ys).tolist()\n",
        "  freqs = {}\n",
        "  for y, tweet in zip(yslist, tweets):\n",
        "    for word in process_tweet(tweet):\n",
        "      pair = (word, y)\n",
        "      if pair in freqs:\n",
        "        freqs[pair] += 1\n",
        "      else:\n",
        "        freqs[pair] = 1\n",
        "  return freqs"
      ],
      "execution_count": 7,
      "outputs": []
    },
    {
      "cell_type": "code",
      "metadata": {
        "id": "0m07t7T1y4TP"
      },
      "source": [
        "train_y = np.append(np.ones((len(train_pos), 1)), np.zeros((len(train_neg), 1)), axis=0)\n",
        "test_y = np.append(np.ones((len(test_pos), 1)), np.zeros((len(test_neg), 1)), axis=0)"
      ],
      "execution_count": 8,
      "outputs": []
    },
    {
      "cell_type": "code",
      "metadata": {
        "colab": {
          "base_uri": "https://localhost:8080/"
        },
        "id": "yL4s89jyy5z7",
        "outputId": "57d5edf7-3308-4f6d-f751-9b029b972dc5"
      },
      "source": [
        "freqs = build_freqs(train_x,train_y)\n",
        "\n",
        "print(\"\\ntype(freqs) = \" + str(type(freqs)))\n",
        "print(\"len(freqs) = \" + str(len(freqs.keys())))"
      ],
      "execution_count": 9,
      "outputs": [
        {
          "output_type": "stream",
          "name": "stdout",
          "text": [
            "\n",
            "type(freqs) = <class 'dict'>\n",
            "len(freqs) = 11346\n"
          ]
        }
      ]
    },
    {
      "cell_type": "code",
      "metadata": {
        "colab": {
          "base_uri": "https://localhost:8080/"
        },
        "id": "SkXUiJQRy8kO",
        "outputId": "7bb485c8-a81f-40bb-87e2-eb9a4fdb7507"
      },
      "source": [
        "print('Example of positive tweet: \\n', train_x[0])\n",
        "print('\\nExample of the processed version of the tweet: \\n', process_tweet(train_x[0]))"
      ],
      "execution_count": 10,
      "outputs": [
        {
          "output_type": "stream",
          "name": "stdout",
          "text": [
            "Example of positive tweet: \n",
            " #FollowFriday @France_Inte @PKuchly57 @Milipol_Paris for being top engaged members in my community this week :)\n",
            "\n",
            "Example of the processed version of the tweet: \n",
            " ['followfriday', 'top', 'engag', 'member', 'commun', 'week', ':)']\n"
          ]
        }
      ]
    },
    {
      "cell_type": "code",
      "metadata": {
        "id": "y3OCYuwEy-lC"
      },
      "source": [
        "def extract_features(tweet, freqs):\n",
        " \n",
        "    word_l = process_tweet(tweet)\n",
        "    x = np.zeros((1, 2)) \n",
        "    \n",
        "    for word in word_l:\n",
        "        if((word,1) in freqs):\n",
        "          x[0,0]+=freqs[word,1]\n",
        "    \n",
        "        if((word,0) in freqs):\n",
        "          x[0,1]+=freqs[word,0]\n",
        "    \n",
        "    assert(x.shape == (1, 2))\n",
        "    return x[0]"
      ],
      "execution_count": 11,
      "outputs": []
    },
    {
      "cell_type": "code",
      "metadata": {
        "colab": {
          "base_uri": "https://localhost:8080/"
        },
        "id": "YCFmZmSfzAgU",
        "outputId": "f3e8c666-280d-4780-c953-1acea27b28a1"
      },
      "source": [
        "tmp1 = extract_features(train_x[0], freqs)\n",
        "print(tmp1)"
      ],
      "execution_count": 12,
      "outputs": [
        {
          "output_type": "stream",
          "name": "stdout",
          "text": [
            "[3020.   61.]\n"
          ]
        }
      ]
    },
    {
      "cell_type": "code",
      "metadata": {
        "colab": {
          "base_uri": "https://localhost:8080/"
        },
        "id": "U_DUpOUrzB8p",
        "outputId": "1cbc0d30-8ce7-4865-e418-610132332875"
      },
      "source": [
        "tmp2 = extract_features('happy', freqs)\n",
        "print(tmp2)"
      ],
      "execution_count": 13,
      "outputs": [
        {
          "output_type": "stream",
          "name": "stdout",
          "text": [
            "[161.  18.]\n"
          ]
        }
      ]
    },
    {
      "cell_type": "code",
      "metadata": {
        "id": "DBt9-ADGzDKE"
      },
      "source": [
        "def predict_tweet(tweet):\n",
        "  with tf.Session() as sess:\n",
        "      saver.restore(sess,save_path='TSession')\n",
        "      data_i=[]\n",
        "      for t in tweet:\n",
        "        data_i.append(extract_features(t,freqs))\n",
        "      data_i=np.asarray(data_i)\n",
        "      return sess.run(tf.nn.sigmoid(tf.add(tf.matmul(a=data_i,b=W,transpose_b=True),b)))\n",
        "      print(\"Fail\")\n",
        "  return "
      ],
      "execution_count": 14,
      "outputs": []
    },
    {
      "cell_type": "code",
      "metadata": {
        "id": "C11XtR2AzLl5"
      },
      "source": [
        "b=tf.Variable(np.random.randn(1),name=\"Bias\")\n",
        "W=tf.Variable(np.random.randn(1,2),name=\"Bias\")"
      ],
      "execution_count": 15,
      "outputs": []
    },
    {
      "cell_type": "code",
      "metadata": {
        "id": "hGxb0T6QzM9b"
      },
      "source": [
        "data=[]\n",
        "for t in train_x:\n",
        "  data.append(extract_features(t,freqs))\n",
        "data=np.asarray(data)"
      ],
      "execution_count": 16,
      "outputs": []
    },
    {
      "cell_type": "code",
      "metadata": {
        "colab": {
          "base_uri": "https://localhost:8080/"
        },
        "id": "dS2LsF9kzOK5",
        "outputId": "af3fdda8-5b64-44d9-90b9-ce2d05724c54"
      },
      "source": [
        "Y_hat = tf.nn.sigmoid(tf.add(tf.matmul(np.asarray(data), W,transpose_b=True), b)) \n",
        "print(Y_hat)\n",
        "ta=np.asarray(train_y)\n",
        "cost = tf.nn.sigmoid_cross_entropy_with_logits( \n",
        "                    logits = Y_hat, labels = ta) \n",
        "print(\"\\n\",cost)"
      ],
      "execution_count": 17,
      "outputs": [
        {
          "output_type": "stream",
          "name": "stdout",
          "text": [
            "Tensor(\"Sigmoid:0\", shape=(8000, 1), dtype=float64)\n",
            "\n",
            " Tensor(\"logistic_loss:0\", shape=(8000, 1), dtype=float64)\n"
          ]
        }
      ]
    },
    {
      "cell_type": "code",
      "metadata": {
        "id": "PbI39MZEzPhp"
      },
      "source": [
        "optimizer = tf.train.GradientDescentOptimizer(learning_rate = 1e-4,name=\"GradientDescent\").minimize(cost) \n",
        "init = tf.global_variables_initializer() "
      ],
      "execution_count": 18,
      "outputs": []
    },
    {
      "cell_type": "code",
      "metadata": {
        "colab": {
          "base_uri": "https://localhost:8080/"
        },
        "id": "WDE6TH1gzRll",
        "outputId": "5f059192-4402-4123-9dd5-a3fcbee5ebd3"
      },
      "source": [
        "saver = tf.train.Saver()\n",
        "with tf.Session() as sess:\n",
        "  \n",
        "  sess.run(init)\n",
        "  print(\"Bias\",sess.run(b))\n",
        "  print(\"Weight\",sess.run(W))\n",
        "  for epoch in range(400):\n",
        "    sess.run(optimizer)\n",
        "    preds=sess.run(Y_hat)\n",
        "    acc=((preds==ta).sum())/len(train_y)\n",
        "    accu=[]\n",
        "    repoch=False\n",
        "    if repoch:\n",
        "      accu.append(acc)\n",
        "    if epoch % 1000 == 0:\n",
        "      print(\"Accuracy\",acc)\n",
        "    saved_path = saver.save(sess, 'TSession')"
      ],
      "execution_count": 19,
      "outputs": [
        {
          "output_type": "stream",
          "name": "stdout",
          "text": [
            "Bias [0.29577421]\n",
            "Weight [[0.57212654 0.32179833]]\n",
            "Accuracy 0.493875\n"
          ]
        }
      ]
    },
    {
      "cell_type": "code",
      "metadata": {
        "colab": {
          "base_uri": "https://localhost:8080/"
        },
        "id": "Hb4_9M1uzUTr",
        "outputId": "f623afad-bd8d-4571-fd77-94e4c6253009"
      },
      "source": [
        "preds=predict_tweet(test_x)\n",
        "print(preds,len(test_y))"
      ],
      "execution_count": 20,
      "outputs": [
        {
          "output_type": "stream",
          "name": "stdout",
          "text": [
            "INFO:tensorflow:Restoring parameters from TSession\n",
            "[[1.]\n",
            " [1.]\n",
            " [1.]\n",
            " ...\n",
            " [1.]\n",
            " [1.]\n",
            " [1.]] 2000\n"
          ]
        }
      ]
    },
    {
      "cell_type": "code",
      "metadata": {
        "id": "5BHj0RdhzZdD"
      },
      "source": [
        "def calculate_accuracy(x,y):\n",
        "  if len(x)!=len(y):\n",
        "    print(\"dimensions are different\")\n",
        "    return\n",
        "  return ((x==y).sum())/len(y)"
      ],
      "execution_count": 21,
      "outputs": []
    },
    {
      "cell_type": "code",
      "metadata": {
        "colab": {
          "base_uri": "https://localhost:8080/"
        },
        "id": "HfPbzueAza-3",
        "outputId": "6ef978dc-05bc-436d-a1c5-ec65ca057b67"
      },
      "source": [
        "print(calculate_accuracy(preds,test_y))"
      ],
      "execution_count": 22,
      "outputs": [
        {
          "output_type": "stream",
          "name": "stdout",
          "text": [
            "0.4975\n"
          ]
        }
      ]
    }
  ]
}