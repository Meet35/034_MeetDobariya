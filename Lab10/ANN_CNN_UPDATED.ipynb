{
  "nbformat": 4,
  "nbformat_minor": 0,
  "metadata": {
    "colab": {
      "name": "ANN_CNN_UPDATED",
      "provenance": []
    },
    "kernelspec": {
      "name": "python3",
      "display_name": "Python 3"
    },
    "language_info": {
      "name": "python"
    }
  },
  "cells": [
    {
      "cell_type": "code",
      "metadata": {
        "id": "Td3CDGkcavSY"
      },
      "source": [
        "# Import Libraries\n",
        "import matplotlib.pyplot as plt\n",
        "import numpy as np\n",
        "import pandas as pd\n",
        "\n",
        "import torch\n",
        "import torch.nn as nn\n",
        "from torch.autograd import Variable\n",
        "from torch.utils.data import DataLoader\n",
        "\n",
        "\n",
        "from sklearn.model_selection import train_test_split"
      ],
      "execution_count": 1,
      "outputs": []
    },
    {
      "cell_type": "code",
      "metadata": {
        "colab": {
          "base_uri": "https://localhost:8080/",
          "height": 314
        },
        "id": "cRFXrN-Ha0tO",
        "outputId": "2ac665b6-1d81-4bea-b1c6-17efc821829d"
      },
      "source": [
        "from tensorflow.keras.datasets import mnist\n",
        "\n",
        "\n",
        "(features_train, targets_train), (features_test, targets_test) = mnist.load_data()\n",
        "\n",
        "# Convert to float32.\n",
        "\n",
        "features_train, features_test = np.array(features_train, np.float32), np.array(features_test, np.float32)\n",
        "\n",
        "# Flatten images to 1-D vector of 784 features (28*28).\n",
        "num_features=784\n",
        "\n",
        "features_train, features_test = features_train.reshape([-1, num_features]), features_test.reshape([-1, num_features])\n",
        "\n",
        "# Normalize images value from [0, 255] to [0, 1].\n",
        "\n",
        "features_train, features_test = features_train / 255., features_test / 255\n",
        "\n",
        "# create feature and targets tensor for train set. As you remember we need variable to accumulate gradients. \n",
        "#Therefore first we create tensor, then we will create variable\n",
        "featuresTrain = torch.from_numpy(features_train)\n",
        "targetsTrain = torch.from_numpy(targets_train).type(torch.LongTensor) # data type is long\n",
        "\n",
        "# create feature and targets tensor for test set.\n",
        "featuresTest = torch.from_numpy(features_test)\n",
        "targetsTest = torch.from_numpy(targets_test).type(torch.LongTensor) # data type is long\n",
        "\n",
        "# batch_size, epoch and iteration\n",
        "batch_size = 100\n",
        "n_iters = 5000\n",
        "num_epochs = n_iters / (len(features_train) / batch_size)\n",
        "num_epochs = int(num_epochs)\n",
        "\n",
        "# Pytorch train and test sets\n",
        "train = torch.utils.data.TensorDataset(featuresTrain,targetsTrain)\n",
        "test = torch.utils.data.TensorDataset(featuresTest,targetsTest)\n",
        "\n",
        "# data loader\n",
        "train_loader = DataLoader(train, batch_size = batch_size, shuffle = False)\n",
        "test_loader = DataLoader(test, batch_size = batch_size, shuffle = False)\n",
        "\n",
        "# visualize one of the images in data set\n",
        "plt.imshow(featuresTrain[10].reshape(28,28))\n",
        "plt.axis(\"off\")\n",
        "plt.title(str(targetsTrain[10]))\n",
        "plt.savefig('graph.png')\n",
        "plt.show()\n",
        "\n"
      ],
      "execution_count": 2,
      "outputs": [
        {
          "output_type": "stream",
          "name": "stdout",
          "text": [
            "Downloading data from https://storage.googleapis.com/tensorflow/tf-keras-datasets/mnist.npz\n",
            "11493376/11490434 [==============================] - 0s 0us/step\n",
            "11501568/11490434 [==============================] - 0s 0us/step\n"
          ]
        },
        {
          "output_type": "display_data",
          "data": {
            "image/png": "[encoded data removed]",
            "text/plain": [
              "<Figure size 432x288 with 1 Axes>"
            ]
          },
          "metadata": {
            "needs_background": "light"
          }
        }
      ]
    },
    {
      "cell_type": "code",
      "metadata": {
        "id": "WXsb3TeOa2h8"
      },
      "source": [
        "# Create ANN Model\n",
        "class ANNModel(nn.Module):\n",
        "    \n",
        "  def __init__(self, input_dim, hidden_dim, output_dim):\n",
        "    super(ANNModel, self).__init__()\n",
        "    self.layer1 = nn.Linear(input_dim, hidden_dim)\n",
        "    self.layer2 = nn.Linear(hidden_dim, hidden_dim)\n",
        "    self.layer3 = nn.Linear(hidden_dim, output_dim)\n",
        "    self.relu = nn.ReLU()\n",
        "  \n",
        "  def forward(self, x):\n",
        "    return self.layer3(self.relu(self.layer2(self.relu(self.layer1(x)))))\n",
        "\n",
        "# instantiate ANN\n",
        "input_dim = 28*28\n",
        "hidden_dim = 150 #hidden layer dim is one of the hyper parameter and it should be chosen and tuned. For now I only say 150 there is no reason.\n",
        "output_dim = 10\n",
        "\n",
        "# Create ANN\n",
        "model = ANNModel(input_dim, hidden_dim, output_dim)\n",
        "\n",
        "# Cross Entropy Loss \n",
        "error = nn.CrossEntropyLoss()\n",
        "\n",
        "# SGD Optimizer\n",
        "learning_rate = 0.02\n",
        "optimizer = torch.optim.SGD(model.parameters(), lr=learning_rate)"
      ],
      "execution_count": 3,
      "outputs": []
    },
    {
      "cell_type": "code",
      "metadata": {
        "colab": {
          "base_uri": "https://localhost:8080/"
        },
        "id": "ALGfvIjGbqtk",
        "outputId": "22474031-7481-4c4c-d3c8-03c03b1f116b"
      },
      "source": [
        "# ANN model training\n",
        "count = 0\n",
        "loss_list = []\n",
        "iteration_list = []\n",
        "accuracy_list = []\n",
        "for epoch in range(num_epochs):\n",
        "    for i, (images, labels) in enumerate(train_loader):\n",
        "\n",
        "        train = Variable(images.view(-1, 28*28))\n",
        "        labels = Variable(labels)\n",
        "        \n",
        "        # Clear gradients\n",
        "        optimizer.zero_grad()\n",
        "        \n",
        "        # Forward propagation\n",
        "        outputs = model(train)\n",
        "        \n",
        "        # Calculate softmax and ross entropy loss\n",
        "        loss = error(outputs, labels)\n",
        "        \n",
        "        # Calculating gradients\n",
        "        loss.backward()\n",
        "        \n",
        "        # Update parameters\n",
        "        optimizer.step()\n",
        "        \n",
        "        count += 1\n",
        "        \n",
        "        if count % 50 == 0:\n",
        "            # Calculate Accuracy         \n",
        "            correct = 0\n",
        "            total = 0\n",
        "            # Predict test dataset\n",
        "            for images, labels in test_loader:\n",
        "\n",
        "                test = Variable(images.view(-1, 28*28))\n",
        "                \n",
        "                # Forward propagation\n",
        "                outputs = model(test)\n",
        "                \n",
        "                # Get predictions from the maximum value\n",
        "                predicted = torch.max(outputs.data, 1)[1]\n",
        "                \n",
        "                # Total number of labels\n",
        "                total += len(labels)\n",
        "\n",
        "                # Total correct predictions\n",
        "                correct += (predicted == labels).sum()\n",
        "            \n",
        "            accuracy = 100 * correct / float(total)\n",
        "            \n",
        "            # store loss and iteration\n",
        "            loss_list.append(loss.data)\n",
        "            iteration_list.append(count)\n",
        "            accuracy_list.append(accuracy)\n",
        "        if count % 500 == 0:\n",
        "            # Print Loss\n",
        "            print('Iteration: {}  Loss: {}  Accuracy: {} %'.format(count, loss.data, accuracy))"
      ],
      "execution_count": 4,
      "outputs": [
        {
          "output_type": "stream",
          "name": "stdout",
          "text": [
            "Iteration: 500  Loss: 0.7493640184402466  Accuracy: 82.69999694824219 %\n",
            "Iteration: 1000  Loss: 0.5004986524581909  Accuracy: 88.9000015258789 %\n",
            "Iteration: 1500  Loss: 0.5542036890983582  Accuracy: 89.94999694824219 %\n",
            "Iteration: 2000  Loss: 0.2983630299568176  Accuracy: 90.88999938964844 %\n",
            "Iteration: 2500  Loss: 0.20512738823890686  Accuracy: 91.55999755859375 %\n",
            "Iteration: 3000  Loss: 0.32961979508399963  Accuracy: 92.05999755859375 %\n",
            "Iteration: 3500  Loss: 0.23889827728271484  Accuracy: 92.68000030517578 %\n",
            "Iteration: 4000  Loss: 0.29239174723625183  Accuracy: 93.2300033569336 %\n",
            "Iteration: 4500  Loss: 0.39279705286026  Accuracy: 93.48999786376953 %\n"
          ]
        }
      ]
    },
    {
      "cell_type": "code",
      "metadata": {
        "colab": {
          "base_uri": "https://localhost:8080/",
          "height": 573
        },
        "id": "gLVKNAopb9Ad",
        "outputId": "56120206-4c2c-4f16-feb6-a5fbacac8529"
      },
      "source": [
        "# visualization loss \n",
        "plt.plot(iteration_list,loss_list)\n",
        "plt.xlabel(\"Number of iteration\")\n",
        "plt.ylabel(\"Loss\")\n",
        "plt.title(\"ANN: Loss vs Number of iteration\")\n",
        "plt.show()\n",
        "\n",
        "# visualization accuracy \n",
        "plt.plot(iteration_list,accuracy_list,color = \"red\")\n",
        "plt.xlabel(\"Number of iteration\")\n",
        "plt.ylabel(\"Accuracy\")\n",
        "plt.title(\"ANN: Accuracy vs Number of iteration\")\n",
        "plt.show()"
      ],
      "execution_count": 5,
      "outputs": [
        {
          "output_type": "display_data",
          "data": {
            "image/png": "[encoded data removed]",
            "text/plain": [
              "<Figure size 432x288 with 1 Axes>"
            ]
          },
          "metadata": {
            "needs_background": "light"
          }
        },
        {
          "output_type": "display_data",
          "data": {
            "image/png": "[encoded data removed]",
            "text/plain": [
              "<Figure size 432x288 with 1 Axes>"
            ]
          },
          "metadata": {
            "needs_background": "light"
          }
        }
      ]
    },
    {
      "cell_type": "code",
      "metadata": {
        "id": "IrT5MkTZcFKC"
      },
      "source": [
        "# Create CNN Model\n",
        "class CNNModel(nn.Module):\n",
        "  def __init__(self):\n",
        "    super(CNNModel, self).__init__()\n",
        "\n",
        "    ######################################################################       \n",
        "    #### DESIGN LAYERS :\n",
        "    ### SEQUENCE: CONV1,ACTIVATION1,POOLING1,  CONV2,ACTIVATION2,POOLING2, LINEAR(FC)\n",
        "    self.layer1 = nn.Conv2d(1, 2, 5)\n",
        "    self.relu = nn.ReLU()\n",
        "    self.pool1 = nn.MaxPool2d(2)\n",
        "    self.layer2 = nn.Conv2d(2, 4, 5)\n",
        "    self.pool2 = nn.MaxPool2d(4)\n",
        "    self.layer3 = nn.Linear(4 * 2 * 2, 10)\n",
        "\n",
        "  def forward(self, x):\n",
        "    # COMBINE LAYERS\n",
        "    ## 1) CONV1\n",
        "    out = self.layer1(x)\n",
        "\n",
        "    ## 2) ACTIVATION1\n",
        "    out = self.relu(out)\n",
        "\n",
        "    ## 3) POOLING1\n",
        "    out = self.pool1(out)\n",
        "    \n",
        "    ## 4) CONV2\n",
        "    out = self.layer2(out)\n",
        "\n",
        "    ## 5) ACTIVATION2\n",
        "    out = self.relu(out)\n",
        "\n",
        "    ## 6) POOLING2\n",
        "    out = self.pool2(out)\n",
        "\n",
        "    ## 7) flatten ########## DURING LAB WE JUST FORGOT FOLLOWING FLATTEN LAYER ###############\n",
        "    out = out.view(out.size(0), -1)\n",
        "\n",
        "    ## 8) LINEAR(FC)\n",
        "    return self.layer3(out)\n",
        "\n",
        "\n",
        "# batch_size, epoch and iteration\n",
        "batch_size = 100\n",
        "n_iters = 2500\n",
        "num_epochs = n_iters / (len(features_train) / batch_size)\n",
        "num_epochs = int(num_epochs)\n",
        "\n",
        "# Pytorch train and test sets\n",
        "train = torch.utils.data.TensorDataset(featuresTrain,targetsTrain)\n",
        "test = torch.utils.data.TensorDataset(featuresTest,targetsTest)\n",
        "\n",
        "# data loader\n",
        "train_loader = torch.utils.data.DataLoader(train, batch_size = batch_size, shuffle = False)\n",
        "test_loader = torch.utils.data.DataLoader(test, batch_size = batch_size, shuffle = False)\n",
        "    \n",
        "# Create CNN\n",
        "model = CNNModel()\n",
        "\n",
        "# Cross Entropy Loss \n",
        "error = nn.CrossEntropyLoss()\n",
        "\n",
        "# SGD Optimizer\n",
        "learning_rate = 0.1\n",
        "optimizer = torch.optim.SGD(model.parameters(), lr=learning_rate)\n"
      ],
      "execution_count": 6,
      "outputs": []
    },
    {
      "cell_type": "code",
      "metadata": {
        "colab": {
          "base_uri": "https://localhost:8080/"
        },
        "id": "t1krOdJIcLvn",
        "outputId": "d5a5ebf1-2667-47cf-bacc-a6ce0a5dfe7b"
      },
      "source": [
        "# CNN model training\n",
        "count = 0\n",
        "loss_list = []\n",
        "iteration_list = []\n",
        "accuracy_list = []\n",
        "for epoch in range(num_epochs):\n",
        "    for i, (images, labels) in enumerate(train_loader):\n",
        "        \n",
        "        train = Variable(images.view(100,1,28,28))\n",
        "        labels = Variable(labels)\n",
        "        \n",
        "        # Clear gradients\n",
        "        optimizer.zero_grad()\n",
        "        \n",
        "        # Forward propagation\n",
        "        outputs = model(train)\n",
        "        \n",
        "        # Calculate softmax and ross entropy loss\n",
        "        loss = error(outputs, labels)\n",
        "        \n",
        "        # Calculating gradients\n",
        "        loss.backward()\n",
        "        \n",
        "        # Update parameters\n",
        "        optimizer.step()\n",
        "        \n",
        "        count += 1\n",
        "        \n",
        "        if count % 50 == 0:\n",
        "            # Calculate Accuracy         \n",
        "            correct = 0\n",
        "            total = 0\n",
        "            # Iterate through test dataset\n",
        "            for images, labels in test_loader:\n",
        "                \n",
        "                test = Variable(images.view(100,1,28,28))\n",
        "                \n",
        "                # Forward propagation\n",
        "                outputs = model(test)\n",
        "                \n",
        "                # Get predictions from the maximum value\n",
        "                predicted = torch.max(outputs.data, 1)[1]\n",
        "                \n",
        "                # Total number of labels\n",
        "                total += len(labels)\n",
        "                \n",
        "                correct += (predicted == labels).sum()\n",
        "            \n",
        "            accuracy = 100 * correct / float(total)\n",
        "            \n",
        "            # store loss and iteration\n",
        "            loss_list.append(loss.data)\n",
        "            iteration_list.append(count)\n",
        "            accuracy_list.append(accuracy)\n",
        "        if count % 500 == 0:\n",
        "            # Print Loss\n",
        "            print('Iteration: {}  Loss: {}  Accuracy: {} %'.format(count, loss.data, accuracy))"
      ],
      "execution_count": 7,
      "outputs": [
        {
          "output_type": "stream",
          "name": "stderr",
          "text": [
            "/usr/local/lib/python3.7/dist-packages/torch/nn/functional.py:718: UserWarning: Named tensors and all their associated APIs are an experimental feature and subject to change. Please do not use them for anything important until they are released as stable. (Triggered internally at  /pytorch/c10/core/TensorImpl.h:1156.)\n",
            "  return torch.max_pool2d(input, kernel_size, stride, padding, dilation, ceil_mode)\n"
          ]
        },
        {
          "output_type": "stream",
          "name": "stdout",
          "text": [
            "Iteration: 500  Loss: 0.6053339242935181  Accuracy: 85.25 %\n",
            "Iteration: 1000  Loss: 0.339071661233902  Accuracy: 90.72000122070312 %\n",
            "Iteration: 1500  Loss: 0.4429318904876709  Accuracy: 91.05999755859375 %\n",
            "Iteration: 2000  Loss: 0.1606336086988449  Accuracy: 92.30999755859375 %\n"
          ]
        }
      ]
    },
    {
      "cell_type": "code",
      "metadata": {
        "colab": {
          "base_uri": "https://localhost:8080/",
          "height": 573
        },
        "id": "RkFRCN0fcOw-",
        "outputId": "9f3c073d-15ef-46cc-fd54-c0862f0b2460"
      },
      "source": [
        "# visualization loss \n",
        "plt.plot(iteration_list,loss_list)\n",
        "plt.xlabel(\"Number of iteration\")\n",
        "plt.ylabel(\"Loss\")\n",
        "plt.title(\"CNN: Loss vs Number of iteration\")\n",
        "plt.show()\n",
        "\n",
        "# visualization accuracy \n",
        "plt.plot(iteration_list,accuracy_list,color = \"red\")\n",
        "plt.xlabel(\"Number of iteration\")\n",
        "plt.ylabel(\"Accuracy\")\n",
        "plt.title(\"CNN: Accuracy vs Number of iteration\")\n",
        "plt.show()"
      ],
      "execution_count": 8,
      "outputs": [
        {
          "output_type": "display_data",
          "data": {
            "image/png": "[encoded data removed]",
            "text/plain": [
              "<Figure size 432x288 with 1 Axes>"
            ]
          },
          "metadata": {
            "needs_background": "light"
          }
        },
        {
          "output_type": "display_data",
          "data": {
            "image/png": "[encoded data removed]",
            "text/plain": [
              "<Figure size 432x288 with 1 Axes>"
            ]
          },
          "metadata": {
            "needs_background": "light"
          }
        }
      ]
    },
    {
      "cell_type": "code",
      "metadata": {
        "id": "VRipDitfcSPx"
      },
      "source": [
        ""
      ],
      "execution_count": null,
      "outputs": []
    }
  ]
}