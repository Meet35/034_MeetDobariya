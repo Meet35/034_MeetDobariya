{
  "nbformat": 4,
  "nbformat_minor": 0,
  "metadata": {
    "colab": {
      "name": "Lab3_1.ipynb",
      "provenance": []
    },
    "kernelspec": {
      "name": "python3",
      "display_name": "Python 3"
    },
    "language_info": {
      "name": "python"
    }
  },
  "cells": [
    {
      "cell_type": "code",
      "metadata": {
        "id": "_qA_lyU148_s"
      },
      "source": [
        "import numpy as np\n",
        "import pandas as pd\n",
        "import matplotlib.pyplot as plt\n",
        "from sklearn import datasets, preprocessing\n",
        "\n",
        "# naive and gaussian model\n",
        "from sklearn.naive_bayes import GaussianNB, MultinomialNB\n",
        "from sklearn.model_selection import train_test_split\n",
        "\n",
        "# for accuracy\n",
        "from sklearn import metrics\n",
        "\n",
        "# print precision and recall\n",
        "from sklearn.metrics import precision_score\n",
        "from sklearn.metrics import recall_score\n",
        "from sklearn.datasets import load_digits"
      ],
      "execution_count": null,
      "outputs": []
    },
    {
      "cell_type": "code",
      "metadata": {
        "colab": {
          "base_uri": "https://localhost:8080/",
          "height": 295
        },
        "id": "3NyW3zK75EaQ",
        "outputId": "6ae04193-32ae-462d-e8a2-4209bb522329"
      },
      "source": [
        "main_data = load_digits()\n",
        "\n",
        "plt.figure(figsize = (20, 20))\n",
        "\n",
        "for i in range(10):\n",
        "    plt.subplot(8, 8, i + 1)\n",
        "    plt.imshow(main_data.images[i])"
      ],
      "execution_count": null,
      "outputs": [
        {
          "output_type": "display_data",
          "data": {
            "image/png": "[encoded data removed]",
            "text/plain": [
              "<Figure size 1440x1440 with 10 Axes>"
            ]
          },
          "metadata": {
            "needs_background": "light"
          }
        }
      ]
    },
    {
      "cell_type": "code",
      "metadata": {
        "id": "xHn_Vjkm5Gr5"
      },
      "source": [
        "from sklearn.model_selection import train_test_split\n",
        "\n",
        "X_train, X_test, Y_train, Y_test = train_test_split(main_data.data, main_data.target, test_size = 0.20, random_state = 34) "
      ],
      "execution_count": 9,
      "outputs": []
    },
    {
      "cell_type": "code",
      "metadata": {
        "colab": {
          "base_uri": "https://localhost:8080/"
        },
        "id": "I0LGyh595KRs",
        "outputId": "2b2bbb1b-60d6-407f-95c9-eaf599f7837f"
      },
      "source": [
        "gnb = GaussianNB()\n",
        "\n",
        "# train model\n",
        "gnb.fit(X_train, Y_train)\n",
        "\n",
        "# training completed\n",
        "Y_predicted = gnb.predict(X_test)\n",
        "\n",
        "print(f\"Accuracy :- {metrics.accuracy_score(Y_test, Y_predicted)}\")"
      ],
      "execution_count": 10,
      "outputs": [
        {
          "output_type": "stream",
          "name": "stdout",
          "text": [
            "Accuracy :- 0.8333333333333334\n"
          ]
        }
      ]
    },
    {
      "cell_type": "code",
      "metadata": {
        "colab": {
          "base_uri": "https://localhost:8080/"
        },
        "id": "TgKX7Z_d5Nr-",
        "outputId": "15d09e74-ddf1-453c-9c15-5e107932cd36"
      },
      "source": [
        "main_data.images[3]"
      ],
      "execution_count": null,
      "outputs": [
        {
          "output_type": "execute_result",
          "data": {
            "text/plain": [
              "array([[ 0.,  0.,  7., 15., 13.,  1.,  0.,  0.],\n",
              "       [ 0.,  8., 13.,  6., 15.,  4.,  0.,  0.],\n",
              "       [ 0.,  2.,  1., 13., 13.,  0.,  0.,  0.],\n",
              "       [ 0.,  0.,  2., 15., 11.,  1.,  0.,  0.],\n",
              "       [ 0.,  0.,  0.,  1., 12., 12.,  1.,  0.],\n",
              "       [ 0.,  0.,  0.,  0.,  1., 10.,  8.,  0.],\n",
              "       [ 0.,  0.,  8.,  4.,  5., 14.,  9.,  0.],\n",
              "       [ 0.,  0.,  7., 13., 13.,  9.,  0.,  0.]])"
            ]
          },
          "metadata": {},
          "execution_count": 5
        }
      ]
    },
    {
      "cell_type": "code",
      "metadata": {
        "colab": {
          "base_uri": "https://localhost:8080/",
          "height": 168
        },
        "id": "wbF61HDp5P50",
        "outputId": "bfea5c7f-b482-4472-a6b9-168bf6c84a40"
      },
      "source": [
        "_, axes = plt.subplots(nrows=1, ncols=4, figsize=(10, 3))\n",
        "for ax, image, prediction in zip(axes, X_test, Y_predicted):\n",
        "    ax.set_axis_off()\n",
        "    image = image.reshape(8, 8)\n",
        "    ax.imshow(image, cmap=plt.cm.gray_r, interpolation='nearest')\n",
        "    ax.set_title(f'Prediction: {prediction}')"
      ],
      "execution_count": 11,
      "outputs": [
        {
          "output_type": "display_data",
          "data": {
            "image/png": "[encoded data removed]",
            "text/plain": [
              "<Figure size 720x216 with 4 Axes>"
            ]
          },
          "metadata": {
            "needs_background": "light"
          }
        }
      ]
    },
    {
      "cell_type": "code",
      "metadata": {
        "colab": {
          "base_uri": "https://localhost:8080/"
        },
        "id": "IBJoFWWZ5SPX",
        "outputId": "39afc873-f377-4dbe-a554-a57266abfab1"
      },
      "source": [
        "print(f\"Classification report for classifier {gnb}:\\n\"\n",
        "      f\"{metrics.classification_report(Y_test, Y_predicted)}\\n\")"
      ],
      "execution_count": 12,
      "outputs": [
        {
          "output_type": "stream",
          "name": "stdout",
          "text": [
            "Classification report for classifier GaussianNB(priors=None, var_smoothing=1e-09):\n",
            "              precision    recall  f1-score   support\n",
            "\n",
            "           0       0.95      0.92      0.93        38\n",
            "           1       0.88      0.76      0.81        37\n",
            "           2       0.93      0.84      0.89        32\n",
            "           3       0.91      0.83      0.87        47\n",
            "           4       0.91      0.77      0.83        39\n",
            "           5       0.89      0.87      0.88        38\n",
            "           6       0.86      0.94      0.90        34\n",
            "           7       0.56      0.92      0.70        25\n",
            "           8       0.72      0.86      0.78        42\n",
            "           9       0.81      0.61      0.69        28\n",
            "\n",
            "    accuracy                           0.83       360\n",
            "   macro avg       0.84      0.83      0.83       360\n",
            "weighted avg       0.85      0.83      0.84       360\n",
            "\n",
            "\n"
          ]
        }
      ]
    },
    {
      "cell_type": "code",
      "metadata": {
        "id": "MHQylE-A5VAK",
        "colab": {
          "base_uri": "https://localhost:8080/",
          "height": 493
        },
        "outputId": "3eb9b7fe-9a52-4ee6-9539-548be44f35ba"
      },
      "source": [
        "disp = metrics.plot_confusion_matrix(gnb, X_test, Y_test)\n",
        "disp.figure_.suptitle(\"Confusion Matrix\")\n",
        "print(f\"Confusion matrix:\\n{disp.confusion_matrix}\")\n",
        "\n",
        "plt.show()"
      ],
      "execution_count": 13,
      "outputs": [
        {
          "output_type": "stream",
          "name": "stdout",
          "text": [
            "Confusion matrix:\n",
            "[[35  0  0  0  2  0  0  1  0  0]\n",
            " [ 0 28  0  0  0  0  2  1  5  1]\n",
            " [ 0  0 27  0  1  0  0  0  4  0]\n",
            " [ 0  1  2 39  0  1  0  0  2  2]\n",
            " [ 0  0  0  0 30  0  2  7  0  0]\n",
            " [ 0  0  0  3  0 33  1  1  0  0]\n",
            " [ 0  1  0  0  0  1 32  0  0  0]\n",
            " [ 0  0  0  0  0  1  0 23  0  1]\n",
            " [ 0  1  0  0  0  1  0  4 36  0]\n",
            " [ 2  1  0  1  0  0  0  4  3 17]]\n"
          ]
        },
        {
          "output_type": "display_data",
          "data": {
            "image/png": "[encoded data removed]",
            "text/plain": [
              "<Figure size 432x288 with 2 Axes>"
            ]
          },
          "metadata": {
            "needs_background": "light"
          }
        }
      ]
    }
  ]
}